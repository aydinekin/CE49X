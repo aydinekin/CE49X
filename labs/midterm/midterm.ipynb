{
 "cells": [
  {
   "cell_type": "markdown",
   "metadata": {},
   "source": [
    "# CE49X Python for Data Science - Midterm Exam\n",
    "**Total Points: 100**\n",
    "\n",
    "**Instructions:**\n",
    "1. Complete all questions in this notebook\n",
    "2. You may use any Python libraries that are commonly available in Jupyter\n",
    "3. Show your work and explain your approach where necessary\n",
    "4. All data required for the questions is provided in the notebook\n",
    "5. Submit the final version of your notebook to eyuphan.koc@gmail.com before 3pm on April 11, 2025. Email subject must be of the form \"Name\", \"LastName\", \"MidtermSubmission\". Make sure to attach the .ipynb file to the email.\n",
    "\n",
    "**Time: 60 minutes**"
   ]
  },
  {
   "cell_type": "markdown",
   "metadata": {},
   "source": [
    "## Question 1 (20 points)\n",
    "Write a Python function that takes a list of numbers representing daily rainfall measurements (in mm) and returns:\n",
    "- The average daily rainfall\n",
    "- The maximum daily rainfall\n",
    "- The number of days with rainfall above 10mm\n",
    "\n",
    "```python\n",
    "def analyze_rainfall(measurements):\n",
    "    # Your code here\n",
    "    pass\n",
    "```\n",
    "\n",
    "Example usage:\n",
    "```python\n",
    "measurements = [5.2, 12.8, 3.1, 15.6, 8.9, 0.0, 4.5]\n",
    "# Should return: (7.01, 15.6, 2)\n",
    "```"
   ]
  },
  {
   "cell_type": "code",
   "execution_count": 7,
   "metadata": {},
   "outputs": [
    {
     "name": "stdout",
     "output_type": "stream",
     "text": [
      "Average rainfall: 7.16 mm\n",
      "Maximum rainfall: 15.6 mm\n",
      "Days above 10mm: 2\n"
     ]
    }
   ],
   "source": [
    "# Test data for Question 1\n",
    "test_measurements = [5.2, 12.8, 3.1, 15.6, 8.9, 0.0, 4.5]\n",
    "\n",
    "# Your solution here\n",
    "def analyze_rainfall(measurements):\n",
    "    avg = sum(measurements) / len(measurements)\n",
    "    maximum = max(measurements)\n",
    "    count = 0\n",
    "    for i in measurements:\n",
    "        if i > 10:\n",
    "            count += 1\n",
    "    return round(avg, 2), maximum, count\n",
    "    pass\n",
    "\n",
    "# Test your solution\n",
    "result = analyze_rainfall(test_measurements)\n",
    "print(f\"Average rainfall: {result[0]:.2f} mm\")\n",
    "print(f\"Maximum rainfall: {result[1]} mm\")\n",
    "print(f\"Days above 10mm: {result[2]}\")"
   ]
  },
  {
   "cell_type": "markdown",
   "metadata": {},
   "source": [
    "## Question 2 (15 points)\n",
    "Given the following dictionary representing structural properties of different materials:"
   ]
  },
  {
   "cell_type": "code",
   "execution_count": 31,
   "metadata": {},
   "outputs": [
    {
     "name": "stdout",
     "output_type": "stream",
     "text": [
      "steel\n",
      "Average elastic modulus: 80666666666.67\n",
      "Materials with yield strength > 35e6: {'steel': {'density': 7850, 'elastic_modulus': 200000000000.0, 'yield_strength': 250000000.0}, 'wood': {'density': 500, 'elastic_modulus': 12000000000.0, 'yield_strength': 40000000.0}}\n"
     ]
    }
   ],
   "source": [
    "# Data for Question 2\n",
    "materials = {\n",
    "    'steel': {'density': 7850, 'elastic_modulus': 200e9, 'yield_strength': 250e6},\n",
    "    'concrete': {'density': 2400, 'elastic_modulus': 30e9, 'yield_strength': 30e6},\n",
    "    'wood': {'density': 500, 'elastic_modulus': 12e9, 'yield_strength': 40e6}\n",
    "}\n",
    "\n",
    "# Your solution here\n",
    "# 1. Print the material with the highest density\n",
    "highest_density_mat = max(materials, key=lambda m: materials[m]['density'])\n",
    "print(highest_density_mat)\n",
    "# 2. Calculate the average elastic modulus of all materials\n",
    "total = sum(materials[m]['elastic_modulus'] for m in materials)\n",
    "avg_elastic_modulus = total / len(materials)\n",
    "print(f\"Average elastic modulus: {avg_elastic_modulus:.2f}\")\n",
    "# 3. Create a new dictionary containing only materials with yield strength greater than 35e6\n",
    "strong_materials = {\n",
    "    name: props\n",
    "    for name, props in materials.items()\n",
    "    if props['yield_strength'] > 35e6\n",
    "}\n",
    "\n",
    "print(\"Materials with yield strength > 35e6:\", strong_materials)"
   ]
  },
  {
   "cell_type": "markdown",
   "metadata": {},
   "source": [
    "## Question 3 (20 points)\n",
    "Write a function that takes a list of beam lengths (in meters) and returns a tuple containing:\n",
    "1. A list of beam lengths converted to feet (1 meter = 3.28084 feet)\n",
    "2. A list of beam lengths that are greater than 5 meters"
   ]
  },
  {
   "cell_type": "code",
   "execution_count": 33,
   "metadata": {},
   "outputs": [
    {
     "name": "stdout",
     "output_type": "stream",
     "text": [
      "Lengths in feet: [11.48294, 20.341208, 15.748031999999998, 23.293964]\n",
      "Lengths > 5m: [6.2, 7.1]\n"
     ]
    }
   ],
   "source": [
    "# Test data for Question 3\n",
    "lengths = [3.5, 6.2, 4.8, 7.1]\n",
    "\n",
    "# Your solution here\n",
    "def process_beam_lengths(lengths):\n",
    "    # Convert each length to feet\n",
    "    lengths_in_feet = [length * 3.28084 for length in lengths]   \n",
    "    # Filter lengths greater than 5 meters\n",
    "    greater_than_5m = [length for length in lengths if length > 5]\n",
    "    return (lengths_in_feet, greater_than_5m)\n",
    "    \n",
    "# Test your solution\n",
    "result = process_beam_lengths(lengths)\n",
    "print(f\"Lengths in feet: {result[0]}\")\n",
    "print(f\"Lengths > 5m: {result[1]}\")"
   ]
  },
  {
   "cell_type": "markdown",
   "metadata": {},
   "source": [
    "## Question 4 (15 points)\n",
    "Given the following list of construction site measurements:"
   ]
  },
  {
   "cell_type": "code",
   "execution_count": 53,
   "metadata": {},
   "outputs": [
    {
     "name": "stdout",
     "output_type": "stream",
     "text": [
      "Average depth for clay soil sites: 2.20 meters\n",
      "Sites with depth > 3m: ['B', 'D']\n",
      "Number of different soil types: 3\n"
     ]
    }
   ],
   "source": [
    "# Data for Question 4\n",
    "measurements = [\n",
    "    {'site': 'A', 'depth': 2.5, 'soil_type': 'clay'},\n",
    "    {'site': 'B', 'depth': 3.8, 'soil_type': 'sand'},\n",
    "    {'site': 'C', 'depth': 1.9, 'soil_type': 'clay'},\n",
    "    {'site': 'D', 'depth': 4.2, 'soil_type': 'gravel'}\n",
    "]\n",
    "\n",
    "# Your solution here\n",
    "# 1. Find the average depth for clay soil sites\n",
    "clay_depths = [m['depth'] for m in measurements if m['soil_type'] == 'clay']\n",
    "average_clay_depth = sum(clay_depths) / len(clay_depths) if clay_depths else 0\n",
    "# 2. Create a list of site names where depth is greater than 3 meters\n",
    "deep_sites = [m['site'] for m in measurements if m['depth'] > 3]\n",
    "# 3. Count how many different soil types are present\n",
    "soil_types = {m['soil_type'] for m in measurements}  # using a set for uniqueness\n",
    "soil_type_count = len(soil_types)\n",
    "\n",
    "print(f\"Average depth for clay soil sites: {average_clay_depth:.2f} meters\")\n",
    "print(f\"Sites with depth > 3m: {deep_sites}\")\n",
    "print(f\"Number of different soil types: {soil_type_count}\")"
   ]
  },
  {
   "cell_type": "markdown",
   "metadata": {},
   "source": [
    "## Question 5 (15 points)\n",
    "Write a function that takes a string representing a construction date in the format \"DD/MM/YYYY\" and returns:\n",
    "1. A tuple containing the day, month, and year as integers\n",
    "2. A boolean indicating if the year is a leap year"
   ]
  },
  {
   "cell_type": "code",
   "execution_count": 41,
   "metadata": {},
   "outputs": [
    {
     "name": "stdout",
     "output_type": "stream",
     "text": [
      "Date: 15/06/2024\n",
      "Parsed: (15, 6, 2024)\n",
      "Is leap year: True\n",
      "\n",
      "Date: 28/02/2023\n",
      "Parsed: (28, 2, 2023)\n",
      "Is leap year: False\n",
      "\n",
      "Date: 01/01/2020\n",
      "Parsed: (1, 1, 2020)\n",
      "Is leap year: True\n",
      "\n"
     ]
    }
   ],
   "source": [
    "# Test data for Question 5\n",
    "test_dates = [\"15/06/2024\", \"28/02/2023\", \"01/01/2020\"]\n",
    "\n",
    "# Your solution here\n",
    "def parse_construction_date(date_str):\n",
    "    day, month, year = map(int, date_str.split(\"/\"))\n",
    "    is_leap_year = (year % 4 == 0 and year % 100 != 0) or (year % 400 == 0)\n",
    "    return (day, month, year), is_leap_year\n",
    "\n",
    "# Test your solution\n",
    "for date in test_dates:\n",
    "    result = parse_construction_date(date)\n",
    "    print(f\"Date: {date}\")\n",
    "    print(f\"Parsed: {result[0]}\")\n",
    "    print(f\"Is leap year: {result[1]}\\n\")"
   ]
  },
  {
   "cell_type": "markdown",
   "metadata": {},
   "source": [
    "## Question 6 (15 points)\n",
    "Given the following list of structural load measurements (in kN):"
   ]
  },
  {
   "cell_type": "code",
   "execution_count": 51,
   "metadata": {},
   "outputs": [
    {
     "name": "stdout",
     "output_type": "stream",
     "text": [
      "7.380078289256528\n",
      "30.2\n",
      "[30.2, 28.9]\n"
     ]
    }
   ],
   "source": [
    "# Data for Question 6\n",
    "import math\n",
    "\n",
    "loads = [25.5, 30.2, 18.7, 42.1, 28.9, 35.6]\n",
    "\n",
    "# Your solution here\n",
    "# 1. Calculate the standard deviation of the loads\n",
    "mean_load = sum(loads) / len(loads)\n",
    "std_dev = math.sqrt(sum((x - mean_load) ** 2 for x in loads) / len(loads))\n",
    "print(std_dev)\n",
    "# 2. Find the load value closest to the mean\n",
    "closest_to_mean = min(loads, key = lambda x: abs(x - mean_load))\n",
    "print(closest_to_mean)\n",
    "# 3. Create a new list containing only loads that are within ±10% of the mean\n",
    "tolerance = 0.10 * mean_load\n",
    "within_10_percent = [x for x in loads if abs(x - mean_load) <= tolerance]\n",
    "print(within_10_percent)\n",
    "# Note: You can use the following formula for standard deviation:\n",
    "# std_dev = math.sqrt(sum((x - mean)**2 for x in data) / len(data))"
   ]
  },
  {
   "cell_type": "code",
   "execution_count": null,
   "metadata": {},
   "outputs": [],
   "source": []
  }
 ],
 "metadata": {
  "kernelspec": {
   "display_name": "Python [conda env:base] *",
   "language": "python",
   "name": "conda-base-py"
  },
  "language_info": {
   "codemirror_mode": {
    "name": "ipython",
    "version": 3
   },
   "file_extension": ".py",
   "mimetype": "text/x-python",
   "name": "python",
   "nbconvert_exporter": "python",
   "pygments_lexer": "ipython3",
   "version": "3.12.7"
  }
 },
 "nbformat": 4,
 "nbformat_minor": 4
}
